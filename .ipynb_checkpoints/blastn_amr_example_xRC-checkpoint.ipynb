{
 "cells": [
  {
   "cell_type": "markdown",
   "metadata": {},
   "source": [
    "![NCBI](NCBI.png)"
   ]
  },
  {
   "cell_type": "markdown",
   "metadata": {},
   "source": [
    "# Running BLAST on the Cloud\n",
    "\n",
    "In this notebook we run a BLASTN search using an antibiotic resistance gene (MH168512) as the query and a set of E. coli plasmids as the database.  We'll then use Python and the Pandas module to explore the resulting data.\n",
    "\n",
    "Below, we start out by retrieving the plasmid sequences and building a BLAST database from those.\n",
    "\n",
    "To get started, click on the cell and then use shift-enter to run it or use the Run button above."
   ]
  },
  {
   "cell_type": "code",
   "execution_count": null,
   "metadata": {},
   "outputs": [],
   "source": [
    "!curl -O https://ftp.ncbi.nlm.nih.gov/blast/demo/Plasmids_562.fsa"
   ]
  },
  {
   "cell_type": "code",
   "execution_count": null,
   "metadata": {},
   "outputs": [],
   "source": [
    "!makeblastdb -in Plasmids_562.fsa -dbtype nucl -parse_seqids -taxid 562 -out Plasmids_562"
   ]
  },
  {
   "cell_type": "markdown",
   "metadata": {},
   "source": [
    "In the makeblastdb command (above), we produced a BLAST database from the plasmid FASTA file, named it Plasmids_562, and set the taxid (taxonomy) for every entry to 562 (E. coli)."
   ]
  },
  {
   "cell_type": "markdown",
   "metadata": {},
   "source": [
    "Next, we download the query file for the antibiotic resistance gene."
   ]
  },
  {
   "cell_type": "code",
   "execution_count": null,
   "metadata": {},
   "outputs": [],
   "source": [
    "!curl -O https://ftp.ncbi.nlm.nih.gov/blast/demo/MH168512.fsa"
   ]
  },
  {
   "cell_type": "markdown",
   "metadata": {},
   "source": [
    "We'll run a BLASTN search and format the results as a table.  The query is our antibiotic resistance gene (MH168512) and the database is the set of plasmid sequences. We're including a lot of fields in the table so we can later use a python script to read it into a pandas dataframe."
   ]
  },
  {
   "cell_type": "code",
   "execution_count": null,
   "metadata": {},
   "outputs": [],
   "source": [
    "!blastn -db Plasmids_562 -query MH168512.fsa -outfmt \"6 qseqid sseqid stitle pident qcovs length mismatch gapopen qstart qend sstart send qframe sframe frames evalue bitscore qseq sseq\" -out MH168512.tab -max_target_seqs 5000"
   ]
  },
  {
   "cell_type": "markdown",
   "metadata": {},
   "source": [
    "Check the output of the tabular results with the UNIX \"head\" command just to make sure something is there:"
   ]
  },
  {
   "cell_type": "code",
   "execution_count": null,
   "metadata": {},
   "outputs": [],
   "source": [
    "!head MH168512.tab"
   ]
  },
  {
   "cell_type": "markdown",
   "metadata": {},
   "source": [
    "Load the tabular results into a dataframe:"
   ]
  },
  {
   "cell_type": "code",
   "execution_count": null,
   "metadata": {},
   "outputs": [],
   "source": [
    "import pandas as pd\n",
    "\n",
    "#load blast results into dataframe and rename columns with meaningful values\n",
    "blast_results = pd.read_csv('MH168512.tab',\n",
    "                           '\\t',\n",
    "                           header=None).rename(columns={0:'qseqid',\n",
    "                                                        1:'sseqid',\n",
    "                                                        2:'stitle',\n",
    "                                                        3:'pident',\n",
    "                                                        4:'qcovs',\n",
    "                                                        5:'length',\n",
    "                                                        6:'mismatch',\n",
    "                                                        7:'gapopen',\n",
    "                                                        8:'qstart',\n",
    "                                                        9:'qend',\n",
    "                                                        10:'sstart',\n",
    "                                                        11:'send',\n",
    "                                                        12:'qframe',\n",
    "                                                        13:'sframe',\n",
    "                                                        14:'frames',\n",
    "                                                        15:'evalue',\n",
    "                                                        16:'bitscore',\n",
    "                                                        17:'qseq',\n",
    "                                                        18:'sseq'})\n",
    "\n",
    "# reformat sseqid values so they are usuable for downstream operations\n",
    "blast_results.sseqid = [x.split('|')[1] for x in blast_results.sseqid]\n",
    "blast_results"
   ]
  },
  {
   "cell_type": "markdown",
   "metadata": {},
   "source": [
    "We can use the dataframe to extract other information.  In the next two cells, we'll check how many rows are in the table, and how many unique database matches we found."
   ]
  },
  {
   "cell_type": "code",
   "execution_count": null,
   "metadata": {},
   "outputs": [],
   "source": [
    "print('There are {} alignments, with {} unique subject sequences'.format(blast_results.index.size,\n",
    "                                                                         blast_results.sseqid.unique().size))\n",
    "\n",
    "# generate descriptive statistics for numerical columns\n",
    "blast_results.describe()"
   ]
  },
  {
   "cell_type": "markdown",
   "metadata": {},
   "source": [
    "There were 81 rows in the table, but only 77 different database sequences (i.e., plasmids) were found. This indicates that some plasmids contained multiple copies of the AMR gene.  To confirm this, we'll need to go back and take a look at the blast results.  The next command will identify those plasmids with multiple BLAST matches and print them out."
   ]
  },
  {
   "cell_type": "code",
   "execution_count": null,
   "metadata": {},
   "outputs": [],
   "source": [
    "blast_results[blast_results.duplicated('sseqid', False)]"
   ]
  },
  {
   "cell_type": "markdown",
   "metadata": {},
   "source": [
    "It looks like we have three plasmids with multiple BLAST matches.  Those three plasmids are in rows 20-22 (NZ_CP010373.2), 61-62 (NZ_CP025626.1), and 76-77 (NZ_CM007910.1). \n",
    "\n",
    "Looking at these results, we see that these are all strong matches.  All the matches are in excess of 99% identical (pident column) and they all cover most of the gene (length column).  The sstart and send columns identify the start and end of the alignment on the plasmid sequence.\n",
    "\n",
    "This use of pandas was inspired by the workflow at https://github.com/fomightez/blast-binder  "
   ]
  },
  {
   "cell_type": "code",
   "execution_count": null,
   "metadata": {},
   "outputs": [],
   "source": [
    "blast_results.bitscore.min()"
   ]
  },
  {
   "cell_type": "code",
   "execution_count": null,
   "metadata": {},
   "outputs": [],
   "source": [
    "%pip install plotly --user"
   ]
  },
  {
   "cell_type": "code",
   "execution_count": null,
   "metadata": {},
   "outputs": [],
   "source": [
    "from plotly.offline import init_notebook_mode, plot, iplot\n",
    "import plotly.graph_objs as go\n",
    "\n",
    "data = [\n",
    "    go.Parcoords(\n",
    "        dimensions = list([\n",
    "            dict(range = [0,100],\n",
    "                 label = 'pident', values = blast_results['pident']),\n",
    "            dict(range = [0,100],\n",
    "                 label = 'qcovs', values = blast_results['qcovs']),\n",
    "            dict(range = [0,blast_results['length'].max()],\n",
    "                 label = 'length', values = blast_results['length']),\n",
    "            dict(range = [1,0],\n",
    "                 label = 'evalue', values = blast_results['evalue']),\n",
    "            dict(range = [20,blast_results.bitscore.max()],\n",
    "                 label = 'bitscore', values = blast_results['bitscore']),\n",
    "            dict(range = [-1,1],\n",
    "                 label = 'qframe', values = blast_results['qframe']),\n",
    "            dict(range = [-1,1],\n",
    "                 label = 'sframe', values = blast_results['sframe']),\n",
    "        ])\n",
    "    )\n",
    "]\n",
    "\n",
    "init_notebook_mode(connected=True)\n",
    "iplot(data, filename = 'blast_results_fig')"
   ]
  }
 ],
 "metadata": {
  "kernelspec": {
   "display_name": "Python 2",
   "language": "python",
   "name": "python2"
  },
  "language_info": {
   "codemirror_mode": {
    "name": "ipython",
    "version": 2
   },
   "file_extension": ".py",
   "mimetype": "text/x-python",
   "name": "python",
   "nbconvert_exporter": "python",
   "pygments_lexer": "ipython2",
   "version": "2.7.15"
  }
 },
 "nbformat": 4,
 "nbformat_minor": 2
}
